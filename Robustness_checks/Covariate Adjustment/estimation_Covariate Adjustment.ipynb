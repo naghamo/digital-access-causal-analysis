{
 "cells": [
  {
   "metadata": {
    "ExecuteTime": {
     "end_time": "2025-08-05T10:42:45.052335Z",
     "start_time": "2025-08-05T10:42:25.005469Z"
    }
   },
   "cell_type": "code",
   "source": [
    "import numpy as np\n",
    "import pandas as pd\n",
    "import statsmodels.api as sm\n",
    "from scipy import stats\n",
    "\n",
    "# Load data\n",
    "df = pd.read_csv('../../data/cleand_df2018.csv')\n",
    "\n",
    "treatment = \"computer\"\n",
    "outcome = \"achievement\"\n",
    "country_cols = [col for col in df.columns if col.startswith(\"country_\")]\n",
    "\n",
    "confounders = [\n",
    "    'escs', 'mother_educ', 'father_educ', 'desk', 'room', 'book', 'gender'\n",
    "] + country_cols\n",
    "\n",
    "X = df[confounders]\n",
    "y = df[outcome]\n",
    "T = df[treatment]\n",
    "\n",
    "# Unadjusted ATE\n",
    "y1 = y[T == 1]\n",
    "y0 = y[T == 0]\n",
    "ate_naive = y1.mean() - y0.mean()\n",
    "n1 = len(y1)\n",
    "n0 = len(y0)\n",
    "se_naive = np.sqrt(y1.var(ddof=1)/n1 + y0.var(ddof=1)/n0)\n",
    "ci_low = ate_naive - 1.96 * se_naive\n",
    "ci_high = ate_naive + 1.96 * se_naive\n",
    "print(f\"Unadjusted ATE: {ate_naive:.2f} (95% CI: [{ci_low:.2f}, {ci_high:.2f}])\")\n",
    "\n",
    "# Covariate-adjusted ATE\n",
    "X_adj = pd.concat([T, X], axis=1)\n",
    "X_adj = sm.add_constant(X_adj)\n",
    "model = sm.OLS(y, X_adj).fit()\n",
    "ate_adjusted = model.params['computer']\n",
    "ci_lower, ci_upper = model.conf_int().loc['computer']\n",
    "print(f\"Adjusted ATE: {ate_adjusted:.2f} (95% CI: [{ci_lower:.2f}, {ci_upper:.2f}])\")\n"
   ],
   "id": "c366a7f8adf45cfb",
   "outputs": [
    {
     "name": "stdout",
     "output_type": "stream",
     "text": [
      "Unadjusted ATE: 67.80 (95% CI: [67.21, 68.39])\n",
      "Adjusted ATE: 15.79 (95% CI: [15.19, 16.39])\n"
     ]
    }
   ],
   "execution_count": 1
  },
  {
   "metadata": {},
   "cell_type": "code",
   "outputs": [],
   "execution_count": null,
   "source": "",
   "id": "25abe0ca5e753fc2"
  }
 ],
 "metadata": {},
 "nbformat": 4,
 "nbformat_minor": 5
}
