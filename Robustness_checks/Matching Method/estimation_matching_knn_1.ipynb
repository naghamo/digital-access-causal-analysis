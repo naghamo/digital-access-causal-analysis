{
 "cells": [
  {
   "cell_type": "code",
   "execution_count": 1,
   "id": "6c114211",
   "metadata": {},
   "outputs": [],
   "source": [
    "# --- Imports ---\n",
    "import numpy as np\n",
    "import pandas as pd\n",
    "import matplotlib.pyplot as plt\n",
    "\n",
    "from sklearn.model_selection import train_test_split\n",
    "from sklearn.neighbors import NearestNeighbors\n",
    "from tqdm import tqdm\n",
    "ranfom_seed = 42\n",
    "# If you use tableone for balance diagnostics:\n",
    "# pip install tableone\n",
    "from tableone import TableOne"
   ]
  },
  {
   "cell_type": "markdown",
   "id": "ea80347a",
   "metadata": {},
   "source": [
    "### Load and Process Original dataset - 2018"
   ]
  },
  {
   "cell_type": "code",
   "execution_count": 2,
   "id": "d12c34f6",
   "metadata": {},
   "outputs": [],
   "source": [
    "data = pd.read_csv(\"loaded_student_data_2018.csv\")"
   ]
  },
  {
   "cell_type": "code",
   "execution_count": 3,
   "id": "e7138608",
   "metadata": {},
   "outputs": [],
   "source": [
    "data = data.drop(columns=['dishwasher','stu_wgt', 'car', 'computer_n', 'television','science', 'read', 'math','year','school_id','student_id','wealth'])"
   ]
  },
  {
   "cell_type": "markdown",
   "id": "677640fa",
   "metadata": {},
   "source": [
    "#### computing propensity score and trimming the data with scores out the range [0.05-0.95]"
   ]
  },
  {
   "cell_type": "code",
   "execution_count": 4,
   "id": "dde45cc3",
   "metadata": {},
   "outputs": [],
   "source": [
    "# Define treatment and outcome\n",
    "T = data['computer']  # Binary treatment: 1 = has computer, 0 = no\n",
    "y = data['achievement']       # Outcome: average score of math, read, and science\n",
    "\n",
    "# Define confounders (exclude country, T, and Y)\n",
    "excluded_cols = ['achievement', 'computer','internet']  # internet is a mediator\n",
    "confounders = [col for col in data.columns if col not in excluded_cols]\n",
    "X = data[confounders]"
   ]
  },
  {
   "cell_type": "code",
   "execution_count": 5,
   "id": "fd98795e",
   "metadata": {},
   "outputs": [],
   "source": [
    "# Train-validation split\n",
    "X_train, X_val, T_train, T_val, y_train, y_val = train_test_split(X, T, y, test_size=0.3, random_state=42)\n"
   ]
  },
  {
   "cell_type": "markdown",
   "id": "dc48c49a",
   "metadata": {},
   "source": [
    "## Estimation"
   ]
  },
  {
   "cell_type": "markdown",
   "id": "76f7bac1",
   "metadata": {},
   "source": [
    "### Matching2"
   ]
  },
  {
   "cell_type": "code",
   "execution_count": 9,
   "id": "3eb2cb59",
   "metadata": {},
   "outputs": [],
   "source": [
    "def precompute_matching(X, T, match_cols=None, nn_algo='ball_tree'):\n",
    "    \"\"\"\n",
    "    Precompute 1-NN control for each treated unit.\n",
    "    Returns:\n",
    "        - matching_dict: {treated_index -> control_index}\n",
    "        - treated_idx: list of treated indices\n",
    "        - control_idx: list of control indices\n",
    "    \"\"\"\n",
    "    if match_cols is None:\n",
    "        match_cols = X.columns\n",
    "\n",
    "    # Subset matrices\n",
    "    X_treated = X.loc[T == 1, match_cols]\n",
    "    X_control = X.loc[T == 0, match_cols]\n",
    "\n",
    "    treated_idx = X_treated.index.tolist()\n",
    "    control_idx = X_control.index.tolist()\n",
    "\n",
    "    # NN on controls\n",
    "    nn = NearestNeighbors(n_neighbors=1, algorithm=nn_algo)\n",
    "    nn.fit(X_control)\n",
    "    distances, indices = nn.kneighbors(X_treated)\n",
    "\n",
    "    matching_dict = {}\n",
    "    for i, idx in enumerate(indices):\n",
    "        treated_i = treated_idx[i]\n",
    "        control_i = control_idx[idx[0]]\n",
    "        matching_dict[treated_i] = control_i\n",
    "\n",
    "    return matching_dict, treated_idx, control_idx"
   ]
  },
  {
   "cell_type": "code",
   "execution_count": 10,
   "id": "219b5fb9",
   "metadata": {},
   "outputs": [],
   "source": [
    "def collect_pairs_from_sample(sampled_treated_idx, matching_dict, enforce_unique_control=False):\n",
    "    pairs = []\n",
    "    for ti in sampled_treated_idx:\n",
    "        ci = matching_dict.get(ti, None)\n",
    "        if ci is None:\n",
    "            continue\n",
    "        pairs.append((ti, ci))\n",
    "    return pairs\n"
   ]
  },
  {
   "cell_type": "code",
   "execution_count": 11,
   "id": "1798f1b8",
   "metadata": {},
   "outputs": [],
   "source": [
    "def outcomes_from_pairs(y, pairs):\n",
    "    \"\"\"\n",
    "    Given a list of (treated_idx, control_idx) pairs, return aligned outcome arrays.\n",
    "    \"\"\"\n",
    "    if not pairs:\n",
    "        return np.array([]), np.array([])\n",
    "    y_t = np.array([y.loc[ti] for ti, _ in pairs])\n",
    "    y_c = np.array([y.loc[ci] for _, ci in pairs])\n",
    "    return y_t, y_c\n"
   ]
  },
  {
   "cell_type": "code",
   "execution_count": 12,
   "id": "b73fd262",
   "metadata": {},
   "outputs": [],
   "source": [
    "def att_from_pairs(y_treated, y_control):\n",
    "    \"\"\"\n",
    "    Pairwise ATT: mean(y_treated - y_control).\n",
    "    \"\"\"\n",
    "    if len(y_treated) == 0 or len(y_treated) != len(y_control):\n",
    "        raise ValueError(\"Empty pairs or unequal treated/control pair counts.\")\n",
    "    return float(np.mean(y_treated - y_control))\n"
   ]
  },
  {
   "cell_type": "code",
   "execution_count": 13,
   "id": "f54a13d6",
   "metadata": {},
   "outputs": [],
   "source": [
    "# --- Precompute matches on the validation split ---\n",
    "matching_dict_val, treated_idx_val, control_idx_val = precompute_matching(X_val, T_val)"
   ]
  },
  {
   "cell_type": "code",
   "execution_count": 14,
   "id": "07f70613",
   "metadata": {},
   "outputs": [],
   "source": [
    "# Build full matched pairs once (use each treated once; enforce 1:1 control reuse within this set)\n",
    "full_pairs_val = collect_pairs_from_sample(treated_idx_val, matching_dict_val, enforce_unique_control=True)\n",
    "y_t_full, y_c_full = outcomes_from_pairs(y_val, full_pairs_val)\n"
   ]
  },
  {
   "cell_type": "code",
   "execution_count": 15,
   "id": "8a7e520b",
   "metadata": {},
   "outputs": [
    {
     "name": "stdout",
     "output_type": "stream",
     "text": [
      "Estimated ATT (Matching, Full Data): 23.0379\n"
     ]
    }
   ],
   "source": [
    "# ATT on full matched validation set (pairwise safe)\n",
    "att_val = att_from_pairs(y_t_full, y_c_full)\n",
    "print(f\"Estimated ATT (Matching, Full Data): {att_val:.4f}\")"
   ]
  },
  {
   "cell_type": "code",
   "execution_count": 16,
   "id": "6efb546c",
   "metadata": {},
   "outputs": [],
   "source": [
    "def matching_confidence_intervals_fast(\n",
    "    X, T, y, matching_dict,\n",
    "    n_bootstrap=1000, alpha=0.05, random_seed=42, enforce_unique_control=True\n",
    "):\n",
    "    rng = np.random.default_rng(random_seed)\n",
    "    treated_indices = [i for i in T.index if T.loc[i] == 1]\n",
    "\n",
    "    att_estimates = []\n",
    "    for _ in tqdm(range(n_bootstrap), desc=\"Bootstrapping Matching ATT\"):\n",
    "        sampled_treated_idx = rng.choice(treated_indices, size=len(treated_indices), replace=True)\n",
    "        pairs = collect_pairs_from_sample(sampled_treated_idx, matching_dict, enforce_unique_control)\n",
    "        y_t, y_c = outcomes_from_pairs(y, pairs)\n",
    "        if len(y_t) == 0:\n",
    "            # No valid pairs in this draw; skip\n",
    "            continue\n",
    "        att_estimates.append(att_from_pairs(y_t, y_c))\n",
    "\n",
    "    if len(att_estimates) == 0:\n",
    "        raise RuntimeError(\"No valid bootstrap draws produced an ATT estimate.\")\n",
    "\n",
    "    lower = np.percentile(att_estimates, 100 * alpha / 2)\n",
    "    upper = np.percentile(att_estimates, 100 * (1 - alpha / 2))\n",
    "    return lower, upper, att_estimates"
   ]
  },
  {
   "cell_type": "code",
   "execution_count": 17,
   "id": "0e8496fb",
   "metadata": {},
   "outputs": [
    {
     "name": "stderr",
     "output_type": "stream",
     "text": [
      "Bootstrapping Matching ATT: 100%|██████████| 1000/1000 [41:28<00:00,  2.49s/it]\n"
     ]
    }
   ],
   "source": [
    "lower, upper, att_dist = matching_confidence_intervals_fast(\n",
    "    X_val, T_val, y_val, matching_dict_val, n_bootstrap=1000, alpha=0.05, random_seed=42\n",
    ")"
   ]
  },
  {
   "cell_type": "code",
   "execution_count": 18,
   "id": "09160dc6",
   "metadata": {},
   "outputs": [
    {
     "name": "stdout",
     "output_type": "stream",
     "text": [
      "Matching ATT 95% CI: [22.4922, 23.5640]\n"
     ]
    }
   ],
   "source": [
    "print(f\"Matching ATT 95% CI: [{lower:.4f}, {upper:.4f}]\")"
   ]
  },
  {
   "cell_type": "code",
   "execution_count": 20,
   "id": "4be48033",
   "metadata": {},
   "outputs": [
    {
     "data": {
      "image/png": "[encoded data removed]",
      "text/plain": [
       "<Figure size 640x480 with 1 Axes>"
      ]
     },
     "metadata": {},
     "output_type": "display_data"
    }
   ],
   "source": [
    "alpha=0.05\n",
    "\n",
    "plt.hist(att_dist, bins=30, alpha=0.7)\n",
    "plt.axvline(lower, color='red', linestyle='--', label=f'{(1-alpha)*100:.0f}% CI lower')\n",
    "plt.axvline(upper, color='green', linestyle='--', label=f'{(1-alpha)*100:.0f}% CI upper')\n",
    "plt.axvline(np.mean(att_dist), color='black', linestyle='-', label='Estimated ATE')\n",
    "plt.legend()\n",
    "plt.title('Bootstrap Distribution of ATE (T-Learner)')\n",
    "plt.xlabel('ATE')\n",
    "plt.ylabel('Frequency')\n",
    "plt.grid(True)\n",
    "plt.show()"
   ]
  }
 ],
 "metadata": {
  "kernelspec": {
   "display_name": "Python 3",
   "language": "python",
   "name": "python3"
  },
  "language_info": {
   "codemirror_mode": {
    "name": "ipython",
    "version": 3
   },
   "file_extension": ".py",
   "mimetype": "text/x-python",
   "name": "python",
   "nbconvert_exporter": "python",
   "pygments_lexer": "ipython3",
   "version": "3.11.9"
  }
 },
 "nbformat": 4,
 "nbformat_minor": 5
}
