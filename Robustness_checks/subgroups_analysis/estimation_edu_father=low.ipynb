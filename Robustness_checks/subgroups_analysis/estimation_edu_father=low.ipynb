{
 "cells": [
  {
   "metadata": {
    "ExecuteTime": {
     "end_time": "2025-08-20T15:26:35.980746Z",
     "start_time": "2025-08-20T15:26:11.853846Z"
    }
   },
   "cell_type": "code",
   "source": [
    "import data_loader as dl\n",
    "import numpy as np\n",
    "import pandas as pd\n",
    "import matplotlib.pyplot as plt\n",
    "import seaborn as sns\n",
    "import statsmodels.api as sm\n",
    "import pandas as pd\n",
    "import dowhy\n",
    "from dowhy import CausalModel\n",
    "import pandas as pd\n",
    "from sklearn.model_selection import train_test_split\n",
    "from tableone import TableOne\n",
    "from sklearn.calibration import calibration_curve\n",
    "from sklearn.metrics import brier_score_loss\n",
    "import matplotlib.pyplot as plt"
   ],
   "id": "868d6ff33eb3a257",
   "outputs": [],
   "execution_count": 1
  },
  {
   "metadata": {
    "ExecuteTime": {
     "end_time": "2025-08-20T15:26:36.226747Z",
     "start_time": "2025-08-20T15:26:36.197670Z"
    }
   },
   "cell_type": "code",
   "source": "random_seed= 42",
   "id": "455351ada9a3c36d",
   "outputs": [],
   "execution_count": 2
  },
  {
   "metadata": {
    "ExecuteTime": {
     "end_time": "2025-08-20T15:26:52.410128Z",
     "start_time": "2025-08-20T15:26:36.295443Z"
    }
   },
   "cell_type": "code",
   "source": [
    "\n",
    "df= pd.read_csv('../../data/cleand_df2018.csv')\n",
    "df.head()"
   ],
   "id": "b33ef1c3e2b8912d",
   "outputs": [
    {
     "data": {
      "text/plain": [
       "   year  school_id  student_id  mother_educ  father_educ  gender  computer  \\\n",
       "0  2018     800002      800251            4            4       1         1   \n",
       "1  2018     800002      800402            2            2       1         1   \n",
       "2  2018     800002      801902            2            2       0         0   \n",
       "3  2018     800002      803546            2            2       1         0   \n",
       "4  2018     800002      804776            2            4       1         1   \n",
       "\n",
       "   internet     math     read  ...  country_SVK  country_SVN  country_SWE  \\\n",
       "0         1  490.187  375.984  ...            0            0            0   \n",
       "1         1  462.464  434.352  ...            0            0            0   \n",
       "2         0  406.949  359.191  ...            0            0            0   \n",
       "3         0  482.501  425.131  ...            0            0            0   \n",
       "4         1  459.804  306.028  ...            0            0            0   \n",
       "\n",
       "   country_TAP  country_THA country_TUR country_UKR country_URY  country_USA  \\\n",
       "0            0            0           0           0           0            0   \n",
       "1            0            0           0           0           0            0   \n",
       "2            0            0           0           0           0            0   \n",
       "3            0            0           0           0           0            0   \n",
       "4            0            0           0           0           0            0   \n",
       "\n",
       "   country_VNM  \n",
       "0            0  \n",
       "1            0  \n",
       "2            0  \n",
       "3            0  \n",
       "4            0  \n",
       "\n",
       "[5 rows x 101 columns]"
      ],
      "text/html": [
       "<div>\n",
       "<style scoped>\n",
       "    .dataframe tbody tr th:only-of-type {\n",
       "        vertical-align: middle;\n",
       "    }\n",
       "\n",
       "    .dataframe tbody tr th {\n",
       "        vertical-align: top;\n",
       "    }\n",
       "\n",
       "    .dataframe thead th {\n",
       "        text-align: right;\n",
       "    }\n",
       "</style>\n",
       "<table border=\"1\" class=\"dataframe\">\n",
       "  <thead>\n",
       "    <tr style=\"text-align: right;\">\n",
       "      <th></th>\n",
       "      <th>year</th>\n",
       "      <th>school_id</th>\n",
       "      <th>student_id</th>\n",
       "      <th>mother_educ</th>\n",
       "      <th>father_educ</th>\n",
       "      <th>gender</th>\n",
       "      <th>computer</th>\n",
       "      <th>internet</th>\n",
       "      <th>math</th>\n",
       "      <th>read</th>\n",
       "      <th>...</th>\n",
       "      <th>country_SVK</th>\n",
       "      <th>country_SVN</th>\n",
       "      <th>country_SWE</th>\n",
       "      <th>country_TAP</th>\n",
       "      <th>country_THA</th>\n",
       "      <th>country_TUR</th>\n",
       "      <th>country_UKR</th>\n",
       "      <th>country_URY</th>\n",
       "      <th>country_USA</th>\n",
       "      <th>country_VNM</th>\n",
       "    </tr>\n",
       "  </thead>\n",
       "  <tbody>\n",
       "    <tr>\n",
       "      <th>0</th>\n",
       "      <td>2018</td>\n",
       "      <td>800002</td>\n",
       "      <td>800251</td>\n",
       "      <td>4</td>\n",
       "      <td>4</td>\n",
       "      <td>1</td>\n",
       "      <td>1</td>\n",
       "      <td>1</td>\n",
       "      <td>490.187</td>\n",
       "      <td>375.984</td>\n",
       "      <td>...</td>\n",
       "      <td>0</td>\n",
       "      <td>0</td>\n",
       "      <td>0</td>\n",
       "      <td>0</td>\n",
       "      <td>0</td>\n",
       "      <td>0</td>\n",
       "      <td>0</td>\n",
       "      <td>0</td>\n",
       "      <td>0</td>\n",
       "      <td>0</td>\n",
       "    </tr>\n",
       "    <tr>\n",
       "      <th>1</th>\n",
       "      <td>2018</td>\n",
       "      <td>800002</td>\n",
       "      <td>800402</td>\n",
       "      <td>2</td>\n",
       "      <td>2</td>\n",
       "      <td>1</td>\n",
       "      <td>1</td>\n",
       "      <td>1</td>\n",
       "      <td>462.464</td>\n",
       "      <td>434.352</td>\n",
       "      <td>...</td>\n",
       "      <td>0</td>\n",
       "      <td>0</td>\n",
       "      <td>0</td>\n",
       "      <td>0</td>\n",
       "      <td>0</td>\n",
       "      <td>0</td>\n",
       "      <td>0</td>\n",
       "      <td>0</td>\n",
       "      <td>0</td>\n",
       "      <td>0</td>\n",
       "    </tr>\n",
       "    <tr>\n",
       "      <th>2</th>\n",
       "      <td>2018</td>\n",
       "      <td>800002</td>\n",
       "      <td>801902</td>\n",
       "      <td>2</td>\n",
       "      <td>2</td>\n",
       "      <td>0</td>\n",
       "      <td>0</td>\n",
       "      <td>0</td>\n",
       "      <td>406.949</td>\n",
       "      <td>359.191</td>\n",
       "      <td>...</td>\n",
       "      <td>0</td>\n",
       "      <td>0</td>\n",
       "      <td>0</td>\n",
       "      <td>0</td>\n",
       "      <td>0</td>\n",
       "      <td>0</td>\n",
       "      <td>0</td>\n",
       "      <td>0</td>\n",
       "      <td>0</td>\n",
       "      <td>0</td>\n",
       "    </tr>\n",
       "    <tr>\n",
       "      <th>3</th>\n",
       "      <td>2018</td>\n",
       "      <td>800002</td>\n",
       "      <td>803546</td>\n",
       "      <td>2</td>\n",
       "      <td>2</td>\n",
       "      <td>1</td>\n",
       "      <td>0</td>\n",
       "      <td>0</td>\n",
       "      <td>482.501</td>\n",
       "      <td>425.131</td>\n",
       "      <td>...</td>\n",
       "      <td>0</td>\n",
       "      <td>0</td>\n",
       "      <td>0</td>\n",
       "      <td>0</td>\n",
       "      <td>0</td>\n",
       "      <td>0</td>\n",
       "      <td>0</td>\n",
       "      <td>0</td>\n",
       "      <td>0</td>\n",
       "      <td>0</td>\n",
       "    </tr>\n",
       "    <tr>\n",
       "      <th>4</th>\n",
       "      <td>2018</td>\n",
       "      <td>800002</td>\n",
       "      <td>804776</td>\n",
       "      <td>2</td>\n",
       "      <td>4</td>\n",
       "      <td>1</td>\n",
       "      <td>1</td>\n",
       "      <td>1</td>\n",
       "      <td>459.804</td>\n",
       "      <td>306.028</td>\n",
       "      <td>...</td>\n",
       "      <td>0</td>\n",
       "      <td>0</td>\n",
       "      <td>0</td>\n",
       "      <td>0</td>\n",
       "      <td>0</td>\n",
       "      <td>0</td>\n",
       "      <td>0</td>\n",
       "      <td>0</td>\n",
       "      <td>0</td>\n",
       "      <td>0</td>\n",
       "    </tr>\n",
       "  </tbody>\n",
       "</table>\n",
       "<p>5 rows × 101 columns</p>\n",
       "</div>"
      ]
     },
     "execution_count": 3,
     "metadata": {},
     "output_type": "execute_result"
    }
   ],
   "execution_count": 3
  },
  {
   "metadata": {
    "ExecuteTime": {
     "end_time": "2025-08-20T15:26:54.963752Z",
     "start_time": "2025-08-20T15:26:54.942583Z"
    }
   },
   "cell_type": "code",
   "source": [
    "#save df as csv\n",
    "# df.to_csv('cleand_df2018.csv', index=False)"
   ],
   "id": "a97b0c3021a8c038",
   "outputs": [],
   "execution_count": 4
  },
  {
   "metadata": {
    "ExecuteTime": {
     "end_time": "2025-08-20T15:26:55.196221Z",
     "start_time": "2025-08-20T15:26:55.172421Z"
    }
   },
   "cell_type": "code",
   "source": [
    "treatment = \"computer\"\n",
    "outcome = \"achievement\"\n",
    "\n",
    "country_cols = [col for col in df.columns if col.startswith(\"country_\")]\n",
    "\n",
    "\n",
    "\n",
    "\n",
    "confounders = [\n",
    "    'escs', 'mother_educ', 'desk', 'room', 'book', 'gender'\n",
    "] + country_cols\n",
    "\n"
   ],
   "id": "d9f2ebace1841d4b",
   "outputs": [],
   "execution_count": 5
  },
  {
   "metadata": {
    "ExecuteTime": {
     "end_time": "2025-08-20T15:26:55.851336Z",
     "start_time": "2025-08-20T15:26:55.325164Z"
    }
   },
   "cell_type": "code",
   "source": [
    "df['father_educ_high'] = (df['father_educ'] >= df['father_educ'].median()).astype(int)\n",
    "df=df[df['father_educ_high']==0]\n",
    "supgroub='father_educ_low'"
   ],
   "id": "439c4e431768df81",
   "outputs": [],
   "execution_count": 6
  },
  {
   "metadata": {
    "ExecuteTime": {
     "end_time": "2025-08-20T15:26:56.191668Z",
     "start_time": "2025-08-20T15:26:55.893072Z"
    }
   },
   "cell_type": "code",
   "source": [
    "X=df[confounders]\n",
    "y=df[outcome]\n",
    "T=df[treatment]\n"
   ],
   "id": "aa32b47b02225098",
   "outputs": [],
   "execution_count": 7
  },
  {
   "metadata": {
    "ExecuteTime": {
     "end_time": "2025-08-20T15:26:58.363973Z",
     "start_time": "2025-08-20T15:26:57.015688Z"
    }
   },
   "cell_type": "code",
   "source": "X_train, X_val, T_train, T_val, y_train, y_val = train_test_split(X, T, y, test_size=0.3, random_state=random_seed)",
   "id": "7183f11b7292c1a4",
   "outputs": [],
   "execution_count": 8
  },
  {
   "metadata": {
    "ExecuteTime": {
     "end_time": "2025-08-20T15:27:02.635152Z",
     "start_time": "2025-08-20T15:27:02.555749Z"
    }
   },
   "cell_type": "code",
   "source": [
    "\n",
    "def train_propensity_model(model, X_train, T_train):\n",
    "    \"\"\"\n",
    "    Return a fitted propensity model on your training data\n",
    "    :param model:\n",
    "    :param X_train:\n",
    "    :param T_train:\n",
    "    :return:\n",
    "    \"\"\"\n",
    "    return model.fit(X_train, T_train)\n",
    "\n",
    "def eval_propensity_model(fitted_model, X_val, T_val,model_name=\"Propensity Model\"):\n",
    "    \"\"\"\n",
    "\n",
    "    :param fitted_model:\n",
    "    :param X_val:\n",
    "    :param T_val:\n",
    "    :return:\n",
    "    \"\"\"\n",
    "\n",
    "\n",
    "    # Get the predicted probabilities\n",
    "    y_pred = fitted_model.predict_proba(X_val)[:, 1]\n",
    "\n",
    "    # Calculate the Brier score\n",
    "    brier_score = brier_score_loss(T_val, y_pred)\n",
    "    print('' + model_name + ' evaluation:')\n",
    "    # Print the Brier score\n",
    "    print(f'Brier score: {brier_score}')\n",
    "\n",
    "    # Plot the calibration curve\n",
    "    prob_true, prob_pred = calibration_curve(T_val, y_pred, n_bins=10)\n",
    "\n",
    "    plt.figure(figsize=(10, 6))\n",
    "    plt.plot(prob_pred, prob_true, marker='o', label='Calibration curve')\n",
    "    plt.plot([0, 1], [0, 1], linestyle='--', label='Perfectly calibrated')\n",
    "    plt.xlabel('Mean predicted probability')\n",
    "    plt.ylabel('Fraction of positives')\n",
    "    plt.title('Calibration curve')\n",
    "    plt.legend()\n",
    "    plt.show()\n"
   ],
   "id": "7741f698f2372537",
   "outputs": [],
   "execution_count": 9
  },
  {
   "metadata": {
    "ExecuteTime": {
     "end_time": "2025-08-20T15:36:06.503501Z",
     "start_time": "2025-08-20T15:27:04.883977Z"
    }
   },
   "cell_type": "code",
   "source": [
    "from sklearn.linear_model import LogisticRegressionCV\n",
    "from sklearn.ensemble import RandomForestClassifier, GradientBoostingClassifier, ExtraTreesClassifier\n",
    "from xgboost import XGBClassifier\n",
    "from lightgbm import LGBMClassifier\n",
    "from catboost import CatBoostClassifier\n",
    "from sklearn.svm import SVC\n",
    "from sklearn.neural_network import MLPClassifier\n",
    "from sklearn.metrics import (\n",
    "    roc_auc_score, brier_score_loss, accuracy_score,\n",
    "    log_loss, f1_score, precision_score, recall_score\n",
    ")\n",
    "from sklearn.calibration import calibration_curve\n",
    "import pandas as pd\n",
    "import joblib\n",
    "import matplotlib.pyplot as plt\n",
    "\n",
    "models = {\n",
    "    \"Logistic Regression CV\": LogisticRegressionCV(cv=5, max_iter=1000, random_state=random_seed),\n",
    "    \"Random Forest\": RandomForestClassifier(n_estimators=100, max_depth=5, random_state=random_seed),\n",
    "    \"Extra Trees\": ExtraTreesClassifier(n_estimators=100, random_state=random_seed),\n",
    "    \"XGBoost\": XGBClassifier(n_estimators=100, max_depth=3, learning_rate=0.1, eval_metric='logloss', random_state=random_seed),\n",
    "    \"Gradient Boosting\": GradientBoostingClassifier(n_estimators=100, learning_rate=0.1, random_state=random_seed),\n",
    "    \"CatBoost\": CatBoostClassifier(iterations=100, depth=3, learning_rate=0.1, verbose=0, random_state=random_seed),\n",
    "\n",
    "}\n",
    "\n",
    "results = {}\n",
    "\n",
    "for name, model in models.items():\n",
    "    model.fit(X_train, T_train)\n",
    "    probas = model.predict_proba(X_val)[:, 1]\n",
    "    preds = model.predict(X_val)\n",
    "    auc = roc_auc_score(T_val, probas)\n",
    "    brier = brier_score_loss(T_val, probas)\n",
    "    acc = accuracy_score(T_val, preds)\n",
    "    ll = log_loss(T_val, probas)\n",
    "    f1 = f1_score(T_val, preds)\n",
    "    precision = precision_score(T_val, preds)\n",
    "    recall = recall_score(T_val, preds)\n",
    "    results[name] = {\n",
    "        'Brier': brier\n",
    "        }\n",
    "    print(f\"{name}:  Brier={brier:.4f}\")\n",
    "\n",
    "df_results = pd.DataFrame(results).T\n",
    "print(\"\\nAll results:\\n\", df_results)\n",
    "\n",
    "\n",
    "best_brier_model = df_results['Brier'].idxmin()\n",
    "\n",
    "\n",
    "\n",
    "print(f\"Best model by Brier: {best_brier_model} ({df_results.loc[best_brier_model, 'Brier']:.4f})\")\n",
    "\n",
    "# Save the best model\n",
    "best_model = models[best_brier_model]\n",
    "# Calibration curve for the best model\n",
    "probas = best_model.predict_proba(X_val)[:, 1]\n",
    "\n",
    "prob_true, prob_pred = calibration_curve(T_val, probas, n_bins=10)\n",
    "\n",
    "plt.figure(figsize=(8, 6))\n",
    "plt.plot(prob_pred, prob_true, marker='o', label='Calibration curve')\n",
    "plt.plot([0, 1], [0, 1], linestyle='--', label='Perfectly calibrated')\n",
    "plt.xlabel('Mean predicted probability')\n",
    "plt.ylabel('Fraction of positives')\n",
    "plt.title(f'Calibration curve ({best_brier_model})')\n",
    "plt.legend()\n",
    "plt.show()\n"
   ],
   "id": "7148be08fcf8aafd",
   "outputs": [
    {
     "name": "stdout",
     "output_type": "stream",
     "text": [
      "Logistic Regression CV:  Brier=0.1129\n",
      "Random Forest:  Brier=0.1317\n",
      "Extra Trees:  Brier=0.1657\n",
      "XGBoost:  Brier=0.1132\n",
      "Gradient Boosting:  Brier=0.1129\n",
      "CatBoost:  Brier=0.1143\n",
      "\n",
      "All results:\n",
      "                            Brier\n",
      "Logistic Regression CV  0.112859\n",
      "Random Forest           0.131662\n",
      "Extra Trees             0.165739\n",
      "XGBoost                 0.113182\n",
      "Gradient Boosting       0.112881\n",
      "CatBoost                0.114280\n",
      "Best model by Brier: Logistic Regression CV (0.1129)\n"
     ]
    },
    {
     "data": {
      "text/plain": [
       "<Figure size 800x600 with 1 Axes>"
      ],
      "image/png": "[encoded data removed]"
     },
     "metadata": {},
     "output_type": "display_data"
    }
   ],
   "execution_count": 10
  },
  {
   "metadata": {
    "ExecuteTime": {
     "end_time": "2025-08-20T15:36:06.930098Z",
     "start_time": "2025-08-20T15:36:06.902866Z"
    }
   },
   "cell_type": "code",
   "source": [
    "def check_overlap(propensity_model, X_train, T_train,):\n",
    "    \"\"\"\n",
    "    Show histograms of the propensity on the T=0 and the T=1 group\n",
    "\n",
    "    :param propensity_model:\n",
    "    :param X_train:\n",
    "    :param T_train:\n",
    "    :return:\n",
    "    \"\"\"\n",
    "    # Get the predicted probabilities\n",
    "    y_pred = propensity_model.predict_proba(X_train)[:, 1]\n",
    "\n",
    "    # Create histograms for T=0 and T=1\n",
    "    plt.figure(figsize=(10, 6))\n",
    "\n",
    "    sns.histplot(y_pred[T_train == 1], color='red', label='Treated (Has Computer)', bins=30, stat=\"density\", alpha=0.6)\n",
    "    sns.histplot(y_pred[T_train == 0], color='blue', label='Control (No Computer)', bins=30, stat=\"density\", alpha=0.6)\n",
    "\n",
    "    plt.xlabel('Predicted Probability of Treatment')\n",
    "    plt.ylabel('Density')\n",
    "    plt.title('Overlap Check: Predicted Probabilities for T=0 and T=1')\n",
    "\n",
    "\n",
    "    plt.legend()\n",
    "    plt.show()\n"
   ],
   "id": "302da5895dd1af68",
   "outputs": [],
   "execution_count": 11
  },
  {
   "metadata": {
    "ExecuteTime": {
     "end_time": "2025-08-20T15:37:13.763712Z",
     "start_time": "2025-08-20T15:37:10.055019Z"
    }
   },
   "cell_type": "code",
   "source": "check_overlap(best_model, X_train, T_train)",
   "id": "6e2c74f999ff1f61",
   "outputs": [
    {
     "data": {
      "text/plain": [
       "<Figure size 1000x600 with 1 Axes>"
      ],
      "image/png": "[encoded data removed]"
     },
     "metadata": {},
     "output_type": "display_data"
    }
   ],
   "execution_count": 12
  },
  {
   "metadata": {
    "ExecuteTime": {
     "end_time": "2025-08-20T15:37:20.009305Z",
     "start_time": "2025-08-20T15:37:18.402351Z"
    }
   },
   "cell_type": "code",
   "source": [
    "def trim_by_propensity(X, y, T, propensity_scores, lower=0.05, upper=0.95):\n",
    "    mask = (propensity_scores >= lower) & (propensity_scores <= upper)\n",
    "    X_trim = X[mask]\n",
    "    y_trim = y[mask]\n",
    "    T_trim = T[mask]\n",
    "    propensity_scores_trim = propensity_scores[mask]\n",
    "    print(f\"Trimmed to {mask.sum()} samples (from {len(mask)}) in [{lower}, {upper}] region.\")\n",
    "    return X_trim, y_trim, T_trim, propensity_scores_trim\n",
    "\n",
    "propensity_scores = best_model.predict_proba(X)[:, 1]\n",
    "print(propensity_scores.min(),propensity_scores.max())\n",
    "# Trim the data\n",
    "X_trim, y_trim, T_trim, propensity_scores_trim = trim_by_propensity(\n",
    "    X, y, T, propensity_scores, lower=0.05, upper=0.95\n",
    ")"
   ],
   "id": "b0a2eaaaca919ebb",
   "outputs": [
    {
     "name": "stdout",
     "output_type": "stream",
     "text": [
      "0.00027735012810293683 0.9997893481957393\n",
      "Trimmed to 220543 samples (from 303236) in [0.05, 0.95] region.\n"
     ]
    }
   ],
   "execution_count": 13
  },
  {
   "metadata": {
    "ExecuteTime": {
     "end_time": "2025-08-20T15:38:21.421255Z",
     "start_time": "2025-08-20T15:38:03.849101Z"
    }
   },
   "cell_type": "code",
   "source": "X_train, X_val, T_train, T_val, y_train, y_val = train_test_split(X_trim, T_trim, y_trim, test_size=0.3, random_state=random_seed)",
   "id": "c6229adcb2a97c3e",
   "outputs": [],
   "execution_count": 14
  },
  {
   "metadata": {
    "ExecuteTime": {
     "end_time": "2025-08-17T15:36:35.285313Z",
     "start_time": "2025-08-17T15:35:28.145651Z"
    }
   },
   "cell_type": "code",
   "source": [
    "# #re train the best model on the trimmed data\n",
    "# best_model = train_propensity_model(best_model, X_train, T_train)\n",
    "# #brier score on the trimmed data\n",
    "# eval_propensity_model(best_model, X_val, T_val, model_name=\"Best Propensity Model (Trimmed)\")"
   ],
   "id": "bf2ebb540bc00b6f",
   "outputs": [
    {
     "name": "stdout",
     "output_type": "stream",
     "text": [
      "Best Propensity Model (Trimmed) evaluation:\n",
      "Brier score: 0.1394710328472445\n"
     ]
    },
    {
     "data": {
      "text/plain": [
       "<Figure size 1000x600 with 1 Axes>"
      ],
      "image/png": "[encoded data removed]"
     },
     "metadata": {},
     "output_type": "display_data"
    }
   ],
   "execution_count": 66
  },
  {
   "metadata": {
    "ExecuteTime": {
     "end_time": "2025-08-20T15:44:04.643647Z",
     "start_time": "2025-08-20T15:39:06.554373Z"
    }
   },
   "cell_type": "code",
   "source": [
    "from sklearn.linear_model import LinearRegression, Ridge, Lasso\n",
    "from sklearn.ensemble import RandomForestRegressor, GradientBoostingRegressor\n",
    "from xgboost import XGBRegressor\n",
    "from lightgbm import LGBMRegressor\n",
    "from sklearn.metrics import (\n",
    "    mean_squared_error\n",
    ")\n",
    "from sklearn.base import clone\n",
    "import joblib\n",
    "\n",
    "def train_t_learner(model, X_train, y_train):\n",
    "    return model.fit(X_train, y_train)\n",
    "\n",
    "from tqdm.auto import tqdm\n",
    "\n",
    "def t_learner_model_selection(models, X_train, y_train, X_val, y_val):\n",
    "    metrics = {\n",
    "        \"MSE\": lambda y_true, y_pred: mean_squared_error(y_true, y_pred),\n",
    "    }\n",
    "    results = {name: {} for name in [m.__class__.__name__ for m in models]}\n",
    "    best_models = {}\n",
    "\n",
    "    for metric_name, metric_func in tqdm(metrics.items(), desc=\"Metrics\"):\n",
    "        best_score = np.inf if metric_name in [\"MSE\"] else -np.inf\n",
    "        best_model = None\n",
    "\n",
    "        for model in tqdm(models, desc=f\"Models for {metric_name}\", leave=False):\n",
    "            fitted_model = train_t_learner(clone(model), X_train, y_train)\n",
    "            y_pred = fitted_model.predict(X_val)\n",
    "            score = metric_func(y_val, y_pred)\n",
    "            results[model.__class__.__name__][metric_name] = score\n",
    "\n",
    "            is_better = (score < best_score) if metric_name in [\"MSE\"] else (score > best_score)\n",
    "            if is_better:\n",
    "                best_score = score\n",
    "                best_model = fitted_model\n",
    "\n",
    "        best_models[metric_name] = best_model\n",
    "        print(f'Best model for {metric_name}: {best_model.__class__.__name__} with score {best_score:.4f}')\n",
    "\n",
    "    # Display results table\n",
    "    df_results = pd.DataFrame(results).T\n",
    "    print(\"All validation scores:\")\n",
    "    print(df_results)\n",
    "\n",
    "    for metric_name in metrics:\n",
    "        print(f\"Best model by {metric_name}: {best_models[metric_name].__class__.__name__} (Score: {df_results[metric_name][best_models[metric_name].__class__.__name__]:.4f})\")\n",
    "\n",
    "    # Save best model by MSE\n",
    "    joblib.dump(best_models[\"MSE\"], \"best_t_learner_model_MSE.pkl\")\n",
    "    print(f\"\\nSaved best T-learner model (by MSE): {best_models['MSE'].__class__.__name__}\")\n",
    "\n",
    "    return best_models\n",
    "\n",
    "\n",
    "models = [\n",
    "    LinearRegression(),\n",
    "    Ridge(alpha=1.0),\n",
    "    Lasso(alpha=0.1),\n",
    "    RandomForestRegressor(n_estimators=100, max_depth=5, random_state=0),\n",
    "    GradientBoostingRegressor(n_estimators=100, learning_rate=0.1, random_state=0),\n",
    "    XGBRegressor(n_estimators=100, max_depth=3, learning_rate=0.1, random_state=0),\n",
    "    LGBMRegressor(n_estimators=100, max_depth=3, random_state=0),\n",
    "\n",
    "]\n",
    "\n",
    "# For treated\n",
    "X_train_treated = X_train[T_train == 1]\n",
    "y_train_treated = y_train[T_train == 1]\n",
    "X_val_treated = X_val[T_val == 1]\n",
    "y_val_treated = y_val[T_val == 1]\n",
    "# For control\n",
    "X_train_control = X_train[T_train == 0]\n",
    "y_train_control = y_train[T_train == 0]\n",
    "X_val_control = X_val[T_val == 0]\n",
    "y_val_control = y_val[T_val == 0]\n",
    "print(\" Selecting model for T=1\")\n",
    "best_models_treated = t_learner_model_selection(models, X_train_treated, y_train_treated, X_val_treated, y_val_treated)\n",
    "\n",
    "print(\" Selecting model for T=0 \")\n",
    "best_models_control = t_learner_model_selection(models, X_train_control, y_train_control, X_val_control, y_val_control)\n"
   ],
   "id": "e0c98bafc7363db3",
   "outputs": [
    {
     "name": "stdout",
     "output_type": "stream",
     "text": [
      " Selecting model for T=1\n"
     ]
    },
    {
     "data": {
      "text/plain": [
       "Metrics:   0%|          | 0/1 [00:00<?, ?it/s]"
      ],
      "application/vnd.jupyter.widget-view+json": {
       "version_major": 2,
       "version_minor": 0,
       "model_id": "07439e008a3b44389fb2d4678bf662da"
      }
     },
     "metadata": {},
     "output_type": "display_data"
    },
    {
     "data": {
      "text/plain": [
       "Models for RMSE:   0%|          | 0/7 [00:00<?, ?it/s]"
      ],
      "application/vnd.jupyter.widget-view+json": {
       "version_major": 2,
       "version_minor": 0,
       "model_id": "466dccc5f47c4a4085561f24a2208b21"
      }
     },
     "metadata": {},
     "output_type": "display_data"
    },
    {
     "name": "stdout",
     "output_type": "stream",
     "text": [
      "[LightGBM] [Info] Auto-choosing row-wise multi-threading, the overhead of testing was 0.008781 seconds.\n",
      "You can set `force_row_wise=true` to remove the overhead.\n",
      "And if memory is not enough, you can set `force_col_wise=true`.\n",
      "[LightGBM] [Info] Total Bins 430\n",
      "[LightGBM] [Info] Number of data points in the train set: 110858, number of used features: 85\n",
      "[LightGBM] [Info] Start training from score 434.111329\n",
      "[LightGBM] [Warning] No further splits with positive gain, best gain: -inf\n",
      "[LightGBM] [Warning] No further splits with positive gain, best gain: -inf\n",
      "[LightGBM] [Warning] No further splits with positive gain, best gain: -inf\n",
      "[LightGBM] [Warning] No further splits with positive gain, best gain: -inf\n",
      "[LightGBM] [Warning] No further splits with positive gain, best gain: -inf\n",
      "[LightGBM] [Warning] No further splits with positive gain, best gain: -inf\n",
      "[LightGBM] [Warning] No further splits with positive gain, best gain: -inf\n",
      "[LightGBM] [Warning] No further splits with positive gain, best gain: -inf\n",
      "[LightGBM] [Warning] No further splits with positive gain, best gain: -inf\n",
      "[LightGBM] [Warning] No further splits with positive gain, best gain: -inf\n",
      "[LightGBM] [Warning] No further splits with positive gain, best gain: -inf\n",
      "[LightGBM] [Warning] No further splits with positive gain, best gain: -inf\n",
      "[LightGBM] [Warning] No further splits with positive gain, best gain: -inf\n",
      "[LightGBM] [Warning] No further splits with positive gain, best gain: -inf\n",
      "[LightGBM] [Warning] No further splits with positive gain, best gain: -inf\n",
      "[LightGBM] [Warning] No further splits with positive gain, best gain: -inf\n",
      "[LightGBM] [Warning] No further splits with positive gain, best gain: -inf\n",
      "[LightGBM] [Warning] No further splits with positive gain, best gain: -inf\n",
      "[LightGBM] [Warning] No further splits with positive gain, best gain: -inf\n",
      "[LightGBM] [Warning] No further splits with positive gain, best gain: -inf\n",
      "[LightGBM] [Warning] No further splits with positive gain, best gain: -inf\n",
      "[LightGBM] [Warning] No further splits with positive gain, best gain: -inf\n",
      "[LightGBM] [Warning] No further splits with positive gain, best gain: -inf\n",
      "[LightGBM] [Warning] No further splits with positive gain, best gain: -inf\n",
      "[LightGBM] [Warning] No further splits with positive gain, best gain: -inf\n",
      "[LightGBM] [Warning] No further splits with positive gain, best gain: -inf\n",
      "[LightGBM] [Warning] No further splits with positive gain, best gain: -inf\n",
      "[LightGBM] [Warning] No further splits with positive gain, best gain: -inf\n",
      "[LightGBM] [Warning] No further splits with positive gain, best gain: -inf\n",
      "[LightGBM] [Warning] No further splits with positive gain, best gain: -inf\n",
      "[LightGBM] [Warning] No further splits with positive gain, best gain: -inf\n",
      "[LightGBM] [Warning] No further splits with positive gain, best gain: -inf\n",
      "[LightGBM] [Warning] No further splits with positive gain, best gain: -inf\n",
      "[LightGBM] [Warning] No further splits with positive gain, best gain: -inf\n",
      "[LightGBM] [Warning] No further splits with positive gain, best gain: -inf\n",
      "[LightGBM] [Warning] No further splits with positive gain, best gain: -inf\n",
      "[LightGBM] [Warning] No further splits with positive gain, best gain: -inf\n",
      "[LightGBM] [Warning] No further splits with positive gain, best gain: -inf\n",
      "[LightGBM] [Warning] No further splits with positive gain, best gain: -inf\n",
      "[LightGBM] [Warning] No further splits with positive gain, best gain: -inf\n",
      "[LightGBM] [Warning] No further splits with positive gain, best gain: -inf\n",
      "[LightGBM] [Warning] No further splits with positive gain, best gain: -inf\n",
      "[LightGBM] [Warning] No further splits with positive gain, best gain: -inf\n",
      "[LightGBM] [Warning] No further splits with positive gain, best gain: -inf\n",
      "[LightGBM] [Warning] No further splits with positive gain, best gain: -inf\n",
      "[LightGBM] [Warning] No further splits with positive gain, best gain: -inf\n",
      "[LightGBM] [Warning] No further splits with positive gain, best gain: -inf\n",
      "[LightGBM] [Warning] No further splits with positive gain, best gain: -inf\n",
      "[LightGBM] [Warning] No further splits with positive gain, best gain: -inf\n",
      "[LightGBM] [Warning] No further splits with positive gain, best gain: -inf\n",
      "[LightGBM] [Warning] No further splits with positive gain, best gain: -inf\n",
      "[LightGBM] [Warning] No further splits with positive gain, best gain: -inf\n",
      "[LightGBM] [Warning] No further splits with positive gain, best gain: -inf\n",
      "[LightGBM] [Warning] No further splits with positive gain, best gain: -inf\n",
      "[LightGBM] [Warning] No further splits with positive gain, best gain: -inf\n",
      "[LightGBM] [Warning] No further splits with positive gain, best gain: -inf\n",
      "[LightGBM] [Warning] No further splits with positive gain, best gain: -inf\n",
      "[LightGBM] [Warning] No further splits with positive gain, best gain: -inf\n",
      "[LightGBM] [Warning] No further splits with positive gain, best gain: -inf\n",
      "[LightGBM] [Warning] No further splits with positive gain, best gain: -inf\n",
      "[LightGBM] [Warning] No further splits with positive gain, best gain: -inf\n",
      "[LightGBM] [Warning] No further splits with positive gain, best gain: -inf\n",
      "[LightGBM] [Warning] No further splits with positive gain, best gain: -inf\n",
      "[LightGBM] [Warning] No further splits with positive gain, best gain: -inf\n",
      "[LightGBM] [Warning] No further splits with positive gain, best gain: -inf\n",
      "[LightGBM] [Warning] No further splits with positive gain, best gain: -inf\n",
      "[LightGBM] [Warning] No further splits with positive gain, best gain: -inf\n",
      "[LightGBM] [Warning] No further splits with positive gain, best gain: -inf\n",
      "[LightGBM] [Warning] No further splits with positive gain, best gain: -inf\n",
      "[LightGBM] [Warning] No further splits with positive gain, best gain: -inf\n",
      "[LightGBM] [Warning] No further splits with positive gain, best gain: -inf\n",
      "[LightGBM] [Warning] No further splits with positive gain, best gain: -inf\n",
      "[LightGBM] [Warning] No further splits with positive gain, best gain: -inf\n",
      "[LightGBM] [Warning] No further splits with positive gain, best gain: -inf\n",
      "[LightGBM] [Warning] No further splits with positive gain, best gain: -inf\n",
      "[LightGBM] [Warning] No further splits with positive gain, best gain: -inf\n",
      "[LightGBM] [Warning] No further splits with positive gain, best gain: -inf\n",
      "[LightGBM] [Warning] No further splits with positive gain, best gain: -inf\n",
      "[LightGBM] [Warning] No further splits with positive gain, best gain: -inf\n",
      "[LightGBM] [Warning] No further splits with positive gain, best gain: -inf\n",
      "[LightGBM] [Warning] No further splits with positive gain, best gain: -inf\n",
      "[LightGBM] [Warning] No further splits with positive gain, best gain: -inf\n",
      "[LightGBM] [Warning] No further splits with positive gain, best gain: -inf\n",
      "[LightGBM] [Warning] No further splits with positive gain, best gain: -inf\n",
      "[LightGBM] [Warning] No further splits with positive gain, best gain: -inf\n",
      "[LightGBM] [Warning] No further splits with positive gain, best gain: -inf\n",
      "[LightGBM] [Warning] No further splits with positive gain, best gain: -inf\n",
      "[LightGBM] [Warning] No further splits with positive gain, best gain: -inf\n",
      "[LightGBM] [Warning] No further splits with positive gain, best gain: -inf\n",
      "[LightGBM] [Warning] No further splits with positive gain, best gain: -inf\n",
      "[LightGBM] [Warning] No further splits with positive gain, best gain: -inf\n",
      "[LightGBM] [Warning] No further splits with positive gain, best gain: -inf\n",
      "[LightGBM] [Warning] No further splits with positive gain, best gain: -inf\n",
      "[LightGBM] [Warning] No further splits with positive gain, best gain: -inf\n",
      "[LightGBM] [Warning] No further splits with positive gain, best gain: -inf\n",
      "[LightGBM] [Warning] No further splits with positive gain, best gain: -inf\n",
      "[LightGBM] [Warning] No further splits with positive gain, best gain: -inf\n",
      "[LightGBM] [Warning] No further splits with positive gain, best gain: -inf\n",
      "[LightGBM] [Warning] No further splits with positive gain, best gain: -inf\n",
      "[LightGBM] [Warning] No further splits with positive gain, best gain: -inf\n",
      "Best model for RMSE: LinearRegression with score 5756.7303\n",
      "All validation scores:\n",
      "                                  RMSE\n",
      "LinearRegression           5756.730307\n",
      "Ridge                      5756.786010\n",
      "Lasso                      5832.975527\n",
      "RandomForestRegressor      6885.109838\n",
      "GradientBoostingRegressor  5982.462061\n",
      "XGBRegressor               5987.714194\n",
      "LGBMRegressor              5975.226965\n",
      "Best model by RMSE: LinearRegression (Score: 5756.7303)\n",
      "\n",
      "Saved best T-learner model (by RMSE): LinearRegression\n",
      " Selecting model for T=0 \n"
     ]
    },
    {
     "data": {
      "text/plain": [
       "Metrics:   0%|          | 0/1 [00:00<?, ?it/s]"
      ],
      "application/vnd.jupyter.widget-view+json": {
       "version_major": 2,
       "version_minor": 0,
       "model_id": "3d025a4045474366acd49cc6ed3016ab"
      }
     },
     "metadata": {},
     "output_type": "display_data"
    },
    {
     "data": {
      "text/plain": [
       "Models for RMSE:   0%|          | 0/7 [00:00<?, ?it/s]"
      ],
      "application/vnd.jupyter.widget-view+json": {
       "version_major": 2,
       "version_minor": 0,
       "model_id": "f6a68034b9bd4bddb03fb584b32dd0c4"
      }
     },
     "metadata": {},
     "output_type": "display_data"
    },
    {
     "name": "stdout",
     "output_type": "stream",
     "text": [
      "[LightGBM] [Info] Auto-choosing row-wise multi-threading, the overhead of testing was 0.987761 seconds.\n",
      "You can set `force_row_wise=true` to remove the overhead.\n",
      "And if memory is not enough, you can set `force_col_wise=true`.\n",
      "[LightGBM] [Info] Total Bins 430\n",
      "[LightGBM] [Info] Number of data points in the train set: 43522, number of used features: 85\n",
      "[LightGBM] [Info] Start training from score 389.243772\n",
      "[LightGBM] [Warning] No further splits with positive gain, best gain: -inf\n",
      "[LightGBM] [Warning] No further splits with positive gain, best gain: -inf\n",
      "[LightGBM] [Warning] No further splits with positive gain, best gain: -inf\n",
      "[LightGBM] [Warning] No further splits with positive gain, best gain: -inf\n",
      "[LightGBM] [Warning] No further splits with positive gain, best gain: -inf\n",
      "[LightGBM] [Warning] No further splits with positive gain, best gain: -inf\n",
      "[LightGBM] [Warning] No further splits with positive gain, best gain: -inf\n",
      "[LightGBM] [Warning] No further splits with positive gain, best gain: -inf\n",
      "[LightGBM] [Warning] No further splits with positive gain, best gain: -inf\n",
      "[LightGBM] [Warning] No further splits with positive gain, best gain: -inf\n",
      "[LightGBM] [Warning] No further splits with positive gain, best gain: -inf\n",
      "[LightGBM] [Warning] No further splits with positive gain, best gain: -inf\n",
      "[LightGBM] [Warning] No further splits with positive gain, best gain: -inf\n",
      "[LightGBM] [Warning] No further splits with positive gain, best gain: -inf\n",
      "[LightGBM] [Warning] No further splits with positive gain, best gain: -inf\n",
      "[LightGBM] [Warning] No further splits with positive gain, best gain: -inf\n",
      "[LightGBM] [Warning] No further splits with positive gain, best gain: -inf\n",
      "[LightGBM] [Warning] No further splits with positive gain, best gain: -inf\n",
      "[LightGBM] [Warning] No further splits with positive gain, best gain: -inf\n",
      "[LightGBM] [Warning] No further splits with positive gain, best gain: -inf\n",
      "[LightGBM] [Warning] No further splits with positive gain, best gain: -inf\n",
      "[LightGBM] [Warning] No further splits with positive gain, best gain: -inf\n",
      "[LightGBM] [Warning] No further splits with positive gain, best gain: -inf\n",
      "[LightGBM] [Warning] No further splits with positive gain, best gain: -inf\n",
      "[LightGBM] [Warning] No further splits with positive gain, best gain: -inf\n",
      "[LightGBM] [Warning] No further splits with positive gain, best gain: -inf\n",
      "[LightGBM] [Warning] No further splits with positive gain, best gain: -inf\n",
      "[LightGBM] [Warning] No further splits with positive gain, best gain: -inf\n",
      "[LightGBM] [Warning] No further splits with positive gain, best gain: -inf\n",
      "[LightGBM] [Warning] No further splits with positive gain, best gain: -inf\n",
      "[LightGBM] [Warning] No further splits with positive gain, best gain: -inf\n",
      "[LightGBM] [Warning] No further splits with positive gain, best gain: -inf\n",
      "[LightGBM] [Warning] No further splits with positive gain, best gain: -inf\n",
      "[LightGBM] [Warning] No further splits with positive gain, best gain: -inf\n",
      "[LightGBM] [Warning] No further splits with positive gain, best gain: -inf\n",
      "[LightGBM] [Warning] No further splits with positive gain, best gain: -inf\n",
      "[LightGBM] [Warning] No further splits with positive gain, best gain: -inf\n",
      "[LightGBM] [Warning] No further splits with positive gain, best gain: -inf\n",
      "[LightGBM] [Warning] No further splits with positive gain, best gain: -inf\n",
      "[LightGBM] [Warning] No further splits with positive gain, best gain: -inf\n",
      "[LightGBM] [Warning] No further splits with positive gain, best gain: -inf\n",
      "[LightGBM] [Warning] No further splits with positive gain, best gain: -inf\n",
      "[LightGBM] [Warning] No further splits with positive gain, best gain: -inf\n",
      "[LightGBM] [Warning] No further splits with positive gain, best gain: -inf\n",
      "[LightGBM] [Warning] No further splits with positive gain, best gain: -inf\n",
      "[LightGBM] [Warning] No further splits with positive gain, best gain: -inf\n",
      "[LightGBM] [Warning] No further splits with positive gain, best gain: -inf\n",
      "[LightGBM] [Warning] No further splits with positive gain, best gain: -inf\n",
      "[LightGBM] [Warning] No further splits with positive gain, best gain: -inf\n",
      "[LightGBM] [Warning] No further splits with positive gain, best gain: -inf\n",
      "[LightGBM] [Warning] No further splits with positive gain, best gain: -inf\n",
      "[LightGBM] [Warning] No further splits with positive gain, best gain: -inf\n",
      "[LightGBM] [Warning] No further splits with positive gain, best gain: -inf\n",
      "[LightGBM] [Warning] No further splits with positive gain, best gain: -inf\n",
      "[LightGBM] [Warning] No further splits with positive gain, best gain: -inf\n",
      "[LightGBM] [Warning] No further splits with positive gain, best gain: -inf\n",
      "[LightGBM] [Warning] No further splits with positive gain, best gain: -inf\n",
      "[LightGBM] [Warning] No further splits with positive gain, best gain: -inf\n",
      "[LightGBM] [Warning] No further splits with positive gain, best gain: -inf\n",
      "[LightGBM] [Warning] No further splits with positive gain, best gain: -inf\n",
      "[LightGBM] [Warning] No further splits with positive gain, best gain: -inf\n",
      "[LightGBM] [Warning] No further splits with positive gain, best gain: -inf\n",
      "[LightGBM] [Warning] No further splits with positive gain, best gain: -inf\n",
      "[LightGBM] [Warning] No further splits with positive gain, best gain: -inf\n",
      "[LightGBM] [Warning] No further splits with positive gain, best gain: -inf\n",
      "[LightGBM] [Warning] No further splits with positive gain, best gain: -inf\n",
      "[LightGBM] [Warning] No further splits with positive gain, best gain: -inf\n",
      "[LightGBM] [Warning] No further splits with positive gain, best gain: -inf\n",
      "[LightGBM] [Warning] No further splits with positive gain, best gain: -inf\n",
      "[LightGBM] [Warning] No further splits with positive gain, best gain: -inf\n",
      "[LightGBM] [Warning] No further splits with positive gain, best gain: -inf\n",
      "[LightGBM] [Warning] No further splits with positive gain, best gain: -inf\n",
      "[LightGBM] [Warning] No further splits with positive gain, best gain: -inf\n",
      "[LightGBM] [Warning] No further splits with positive gain, best gain: -inf\n",
      "[LightGBM] [Warning] No further splits with positive gain, best gain: -inf\n",
      "[LightGBM] [Warning] No further splits with positive gain, best gain: -inf\n",
      "[LightGBM] [Warning] No further splits with positive gain, best gain: -inf\n",
      "[LightGBM] [Warning] No further splits with positive gain, best gain: -inf\n",
      "[LightGBM] [Warning] No further splits with positive gain, best gain: -inf\n",
      "[LightGBM] [Warning] No further splits with positive gain, best gain: -inf\n",
      "[LightGBM] [Warning] No further splits with positive gain, best gain: -inf\n",
      "[LightGBM] [Warning] No further splits with positive gain, best gain: -inf\n",
      "[LightGBM] [Warning] No further splits with positive gain, best gain: -inf\n",
      "[LightGBM] [Warning] No further splits with positive gain, best gain: -inf\n",
      "[LightGBM] [Warning] No further splits with positive gain, best gain: -inf\n",
      "[LightGBM] [Warning] No further splits with positive gain, best gain: -inf\n",
      "[LightGBM] [Warning] No further splits with positive gain, best gain: -inf\n",
      "[LightGBM] [Warning] No further splits with positive gain, best gain: -inf\n",
      "[LightGBM] [Warning] No further splits with positive gain, best gain: -inf\n",
      "[LightGBM] [Warning] No further splits with positive gain, best gain: -inf\n",
      "[LightGBM] [Warning] No further splits with positive gain, best gain: -inf\n",
      "[LightGBM] [Warning] No further splits with positive gain, best gain: -inf\n",
      "[LightGBM] [Warning] No further splits with positive gain, best gain: -inf\n",
      "[LightGBM] [Warning] No further splits with positive gain, best gain: -inf\n",
      "[LightGBM] [Warning] No further splits with positive gain, best gain: -inf\n",
      "[LightGBM] [Warning] No further splits with positive gain, best gain: -inf\n",
      "[LightGBM] [Warning] No further splits with positive gain, best gain: -inf\n",
      "[LightGBM] [Warning] No further splits with positive gain, best gain: -inf\n",
      "[LightGBM] [Warning] No further splits with positive gain, best gain: -inf\n",
      "[LightGBM] [Warning] No further splits with positive gain, best gain: -inf\n",
      "Best model for RMSE: LinearRegression with score 4379.5024\n",
      "All validation scores:\n",
      "                                  RMSE\n",
      "LinearRegression           4379.502378\n",
      "Ridge                      4379.508153\n",
      "Lasso                      4459.400213\n",
      "RandomForestRegressor      5189.938412\n",
      "GradientBoostingRegressor  4493.299531\n",
      "XGBRegressor               4488.311617\n",
      "LGBMRegressor              4484.517849\n",
      "Best model by RMSE: LinearRegression (Score: 4379.5024)\n",
      "\n",
      "Saved best T-learner model (by RMSE): LinearRegression\n"
     ]
    }
   ],
   "execution_count": 15
  },
  {
   "metadata": {},
   "cell_type": "markdown",
   "source": "doubly robust",
   "id": "e912571014f3e64c"
  },
  {
   "metadata": {
    "ExecuteTime": {
     "end_time": "2025-08-20T15:44:08.074877Z",
     "start_time": "2025-08-20T15:44:05.536789Z"
    }
   },
   "cell_type": "code",
   "source": [
    "\n",
    "\n",
    "def calculate_dr_ate(y, T, propensity_scores, mu0_pred, mu1_pred):\n",
    "    \"\"\"\n",
    "    Doubly Robust ATE Estimation.\n",
    "\n",
    "    Args:\n",
    "        y:      Observed outcome\n",
    "        T:      Treatment indicator (\n",
    "        propensity_scores:  estimated propensity\n",
    "        mu0_pred:  Predicted outcome  untreated\n",
    "        mu1_pred:  Predicted outcome  treated\n",
    "\n",
    "    Returns:\n",
    "        dr_ate:  Estimated ATE\n",
    "    \"\"\"\n",
    "\n",
    "    # eps = 1e-6\n",
    "    # propensity_scores = np.clip(propensity_scores, eps, 1-eps)\n",
    "\n",
    "    # Doubly Robust estimate:\n",
    "    dr_scores = (mu1_pred - mu0_pred) \\\n",
    "        + T * (y - mu1_pred) / propensity_scores \\\n",
    "        - (1 - T) * (y - mu0_pred) / (1 - propensity_scores)\n",
    "\n",
    "    dr_ate = np.mean(dr_scores)\n",
    "    print(f\"Estimated ATE (Doubly Robust): {dr_ate:.4f}\")\n",
    "    return dr_ate\n",
    "\n",
    "mu1_pred = best_models_treated['MSE'].predict(X_trim)\n",
    "mu0_pred = best_models_control['MSE'].predict(X_trim)\n",
    "\n",
    "dr_ate = calculate_dr_ate(y_trim, T_trim, propensity_scores_trim, mu0_pred, mu1_pred)\n"
   ],
   "id": "31a0e11a875b9c2b",
   "outputs": [
    {
     "name": "stdout",
     "output_type": "stream",
     "text": [
      "Estimated ATE (Doubly Robust): 19.5733\n"
     ]
    }
   ],
   "execution_count": 16
  },
  {
   "metadata": {
    "ExecuteTime": {
     "end_time": "2025-08-20T15:56:13.297222Z",
     "start_time": "2025-08-20T15:44:10.165166Z"
    }
   },
   "cell_type": "code",
   "source": [
    "\n",
    "from sklearn.base import clone\n",
    "from tqdm.auto import tqdm\n",
    "\n",
    "def dr_confidence_intervals(\n",
    "    X, y, T,\n",
    "    propensity_model, model_treated, model_control,\n",
    "    n_iterations=1000, alpha=0.05, random_seed=random_seed, verbose=True\n",
    "):\n",
    "    \"\"\"\n",
    "    Bootstrap 95% confidence interval for Doubly Robust ATE.\n",
    "\n",
    "    Args:\n",
    "        X: Features  already trimmed\n",
    "        y: Outcome\n",
    "        T: Treatment\n",
    "        propensity_model: fitted propensity score model\n",
    "        model_treated: fitted outcome model for T=1\n",
    "        model_control: fitted outcome model for T=0\n",
    "        n_iterations: number of bootstrap samples\n",
    "        alpha: significance level\n",
    "        random_seed: for reproducibility\n",
    "        verbose: whether to print the CI\n",
    "\n",
    "    Returns:\n",
    "        (lower, upper): bounds of the confidence interval\n",
    "    \"\"\"\n",
    "    np.random.seed(random_seed)\n",
    "    ate_estimates = []\n",
    "    eps = 1e-6\n",
    "\n",
    "    for _ in tqdm(range(n_iterations), desc=\"DR Bootstrap\"):\n",
    "        # Sample with replacement\n",
    "        indices = np.random.choice(X.index, size=len(X), replace=True)\n",
    "        X_boot = X.loc[indices]\n",
    "        y_boot = y.loc[indices]\n",
    "        T_boot = T.loc[indices]\n",
    "\n",
    "        # Estimate propensity\n",
    "        # p_scores = np.clip(propensity_model.predict_proba(X_boot)[:, 1], eps, 1-eps)\n",
    "        p_scores=propensity_model.predict_proba(X_boot)[:, 1]\n",
    "        # Predict outcomes as if all treated / control\n",
    "        mu1_pred = model_treated.predict(X_boot)\n",
    "        mu0_pred = model_control.predict(X_boot)\n",
    "\n",
    "        # DR estimate\n",
    "        dr_scores = (mu1_pred - mu0_pred) \\\n",
    "            + T_boot * (y_boot - mu1_pred) / p_scores \\\n",
    "            - (1 - T_boot) * (y_boot - mu0_pred) / (1 - p_scores)\n",
    "        dr_ate = np.mean(dr_scores)\n",
    "        ate_estimates.append(dr_ate)\n",
    "\n",
    "    lower = np.percentile(ate_estimates, 100 * alpha / 2)\n",
    "    upper = np.percentile(ate_estimates, 100 * (1 - alpha / 2))\n",
    "    if verbose:\n",
    "        print(f\"95% Confidence Interval for ATE (Doubly Robust): [{lower:.4f}, {upper:.4f}]\")\n",
    "    return lower, upper\n",
    "\n",
    "dr_ci = dr_confidence_intervals(\n",
    "    X_trim, y_trim, T_trim,\n",
    "    propensity_model=best_model,\n",
    "    model_treated=best_models_treated['MSE'],\n",
    "    model_control=best_models_control['MSE'],\n",
    "    alpha=0.05,\n",
    "    random_seed=random_seed\n",
    ")\n"
   ],
   "id": "620f9dbe7da59455",
   "outputs": [
    {
     "data": {
      "text/plain": [
       "DR Bootstrap:   0%|          | 0/1000 [00:00<?, ?it/s]"
      ],
      "application/vnd.jupyter.widget-view+json": {
       "version_major": 2,
       "version_minor": 0,
       "model_id": "dcf30b16b8ff4fa09739c116c54a77f5"
      }
     },
     "metadata": {},
     "output_type": "display_data"
    },
    {
     "name": "stdout",
     "output_type": "stream",
     "text": [
      "95% Confidence Interval for ATE (Doubly Robust): [18.6390, 20.4932]\n"
     ]
    }
   ],
   "execution_count": 17
  },
  {
   "metadata": {
    "ExecuteTime": {
     "end_time": "2025-08-20T15:56:15.745707Z",
     "start_time": "2025-08-20T15:56:15.734315Z"
    }
   },
   "cell_type": "code",
   "source": "",
   "id": "40bdcadf4a2d9d07",
   "outputs": [],
   "execution_count": null
  }
 ],
 "metadata": {
  "kernelspec": {
   "display_name": "Python 3",
   "language": "python",
   "name": "python3"
  },
  "language_info": {
   "codemirror_mode": {
    "name": "ipython",
    "version": 2
   },
   "file_extension": ".py",
   "mimetype": "text/x-python",
   "name": "python",
   "nbconvert_exporter": "python",
   "pygments_lexer": "ipython2",
   "version": "2.7.6"
  }
 },
 "nbformat": 4,
 "nbformat_minor": 5
}
